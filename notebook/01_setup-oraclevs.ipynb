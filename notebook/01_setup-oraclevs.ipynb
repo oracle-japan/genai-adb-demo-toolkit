{
 "cells": [
  {
   "cell_type": "markdown",
   "metadata": {},
   "source": [
    "## Autonomous Database(23ai) をベクトルストアとして活用するためのセットアップ\n",
    "\n",
    "このノートブックでは、Autonomous Database をベクトルストアとして活用するためのセットアップを行います。  "
   ]
  },
  {
   "cell_type": "markdown",
   "metadata": {},
   "source": [
    "### 任意: 事前準備\n",
    "\n",
    "Python で実装したコードから ADB に接続するために必要な Wallet のダウンロードと展開を行います。  "
   ]
  },
  {
   "cell_type": "code",
   "execution_count": null,
   "metadata": {},
   "outputs": [],
   "source": [
    "import os\n",
    "from dotenv import load_dotenv, find_dotenv\n",
    "\n",
    "_ = load_dotenv(find_dotenv())\n",
    "\n",
    "autonomous_database_id = os.getenv(\"AUTONOMOUS_DATABASE_ID\")\n",
    "wallet_dir = os.getenv(\"WALLET_DIR\")\n",
    "wallet_password = os.getenv(\"WALLET_PASSWORD\")"
   ]
  },
  {
   "cell_type": "code",
   "execution_count": null,
   "metadata": {},
   "outputs": [],
   "source": [
    "import shutil\n",
    "from oci.auth.signers import InstancePrincipalsSecurityTokenSigner\n",
    "from oci.database.database_client import DatabaseClient\n",
    "from oci.database.models import GenerateAutonomousDatabaseWalletDetails\n",
    "\n",
    "signer = InstancePrincipalsSecurityTokenSigner()\n",
    "database_client = DatabaseClient(config={}, signer=signer)\n",
    "res = database_client.generate_autonomous_database_wallet(\n",
    "    autonomous_database_id=autonomous_database_id,\n",
    "    generate_autonomous_database_wallet_details=GenerateAutonomousDatabaseWalletDetails(\n",
    "        generate_type=\"ALL\",\n",
    "        password=wallet_password\n",
    "    )\n",
    ")\n",
    "\n",
    "data = res.data\n",
    "\n",
    "zip_file = os.path.join(wallet_dir, 'wallet.zip')\n",
    "os.makedirs(wallet_dir, exist_ok=True)\n",
    "with open(zip_file, 'wb') as f:\n",
    "    for chunk in data.raw.stream(1024 * 1024, decode_content=False):\n",
    "        f.write(chunk)\n",
    "shutil.unpack_archive(zip_file, wallet_dir)\n",
    "print(\"zip file was unpacked in\", wallet_dir)"
   ]
  },
  {
   "cell_type": "markdown",
   "metadata": {},
   "source": [
    "### Oracle Database とのコネクション作成"
   ]
  },
  {
   "cell_type": "markdown",
   "metadata": {},
   "source": [
    "コネクションの作成に必要なパラメータを環境変数から読み込みます。"
   ]
  },
  {
   "cell_type": "code",
   "execution_count": null,
   "metadata": {},
   "outputs": [],
   "source": [
    "import oracledb\n",
    "\n",
    "_ = load_dotenv(find_dotenv())\n",
    "username = os.getenv(\"USERNAME\")\n",
    "password = os.getenv(\"PASSWORD\")\n",
    "dsn = os.getenv(\"DSN\")\n",
    "config_dir = os.getenv(\"CONFIG_DIR\")\n",
    "wallet_dir = os.getenv(\"WALLET_DIR\")\n",
    "wallet_password = os.getenv(\"WALLET_PASSWORD\")\n",
    "table_name = os.getenv(\"TABLE_NAME\")"
   ]
  },
  {
   "cell_type": "markdown",
   "metadata": {},
   "source": [
    "Oracle Database とのコネクションを作成します。  \n",
    "Jupyter Notebook のため、`with` 句は利用していませんが、アプリケーションに組み込む際は、コネクションが確実にクローズされることを保証するために、`with` 句を用いてコネクションを作成ください。\n",
    "\n",
    "参考: [https://python-oracledb.readthedocs.io/en/latest/user_guide/connection_handling.html#closing-connections](https://python-oracledb.readthedocs.io/en/latest/user_guide/connection_handling.html#closing-connections)"
   ]
  },
  {
   "cell_type": "code",
   "execution_count": null,
   "metadata": {},
   "outputs": [],
   "source": [
    "connection = oracledb.connect(\n",
    "    dsn=dsn,\n",
    "    user=username,\n",
    "    password=password,\n",
    "    config_dir=config_dir,\n",
    "    wallet_location=wallet_dir,\n",
    "    wallet_password=wallet_password\n",
    ")"
   ]
  },
  {
   "cell_type": "markdown",
   "metadata": {},
   "source": [
    "### ドキュメントの読み込み + チャンク分割\n",
    "\n",
    "対象のドキュメント（日本オラクルの有価証券報告書）を読み込み、埋め込み表現を得るためにチャンクに分割します。"
   ]
  },
  {
   "cell_type": "code",
   "execution_count": null,
   "metadata": {},
   "outputs": [],
   "source": [
    "import glob\n",
    "from langchain_community.document_loaders import PyPDFLoader\n",
    "from langchain_community.document_loaders.oracleai import OracleTextSplitter, OracleDocReader, OracleDocLoader\n",
    "\n",
    "params = {\"split\": \"recursively\", \"max\": 300, \"by\": \"words\", \"overlap\": 30, \"normalize\": \"all\"}\n",
    "character_splitter = OracleTextSplitter(\n",
    "    conn=connection,\n",
    "    params=params\n",
    ")\n",
    "files = glob.glob(\"../data/*.pdf\")\n",
    "docs = []\n",
    "for file in files:\n",
    "    loader = PyPDFLoader(file_path=file)\n",
    "    pages = loader.load_and_split(text_splitter=character_splitter)\n",
    "    docs.extend(pages)\n",
    "    for page in pages:\n",
    "        print(\"content length:\", len(page.page_content))\n",
    "print(\"docs size:\", len(docs))"
   ]
  },
  {
   "cell_type": "markdown",
   "metadata": {},
   "source": [
    "### ADB　へのデータ投入\n",
    "\n",
    "データベースに格納する際のベクトルを得るための埋め込み関数とベクトルデータベースを作成します。"
   ]
  },
  {
   "cell_type": "code",
   "execution_count": null,
   "metadata": {},
   "outputs": [],
   "source": [
    "from langchain_community.embeddings.oci_generative_ai import OCIGenAIEmbeddings\n",
    "from langchain_community.vectorstores.oraclevs import OracleVS\n",
    "from langchain_community.vectorstores.utils import DistanceStrategy\n",
    "\n",
    "_ = load_dotenv(find_dotenv())\n",
    "compartment_id = os.getenv(\"COMPARTMENT_ID\")\n",
    "service_endpoint = os.getenv(\"SERVICE_ENDPOINT\")\n",
    "\n",
    "embedding_function = OCIGenAIEmbeddings(\n",
    "    auth_type=\"INSTANCE_PRINCIPAL\",\n",
    "    model_id=\"cohere.embed-multilingual-v3.0\",\n",
    "    service_endpoint=service_endpoint,\n",
    "    compartment_id=compartment_id,\n",
    ")\n",
    "\n",
    "oracle_vs = OracleVS(\n",
    "    client=connection,\n",
    "    embedding_function=embedding_function,\n",
    "    table_name=table_name,\n",
    "    distance_strategy=DistanceStrategy.COSINE,\n",
    "    query=\"What is Oracle Database?\"\n",
    ")"
   ]
  },
  {
   "cell_type": "markdown",
   "metadata": {},
   "source": [
    "\n",
    "チャンク分割したドキュメントデータを Oracle Database に格納します。"
   ]
  },
  {
   "cell_type": "code",
   "execution_count": null,
   "metadata": {},
   "outputs": [],
   "source": [
    "oracle_vs.add_documents(documents=docs)"
   ]
  },
  {
   "cell_type": "markdown",
   "metadata": {},
   "source": [
    "## Vector Search"
   ]
  },
  {
   "cell_type": "markdown",
   "metadata": {},
   "source": [
    "自然言語での類似検索実行例"
   ]
  },
  {
   "cell_type": "code",
   "execution_count": null,
   "metadata": {},
   "outputs": [],
   "source": [
    "query = \"日本オラクルの財政状況を教えてください。\"\n",
    "\n",
    "res = oracle_vs.similarity_search(query=query)\n",
    "print(res)"
   ]
  },
  {
   "cell_type": "markdown",
   "metadata": {},
   "source": [
    "自然言語での類似検索に加え関連度のスコア情報も取得する例  \n",
    "**注: langchain-community 0.2.6 時点では本関数（正確には、`_select_relevance_score_fn`）は未実装のため実行不可**"
   ]
  },
  {
   "cell_type": "code",
   "execution_count": null,
   "metadata": {},
   "outputs": [],
   "source": [
    "res = oracle_vs.similarity_search_with_relevance_scores(query=query)\n",
    "print(res)"
   ]
  },
  {
   "cell_type": "markdown",
   "metadata": {},
   "source": [
    "## LLM(chat feature) を組み合わせた対話形式の問い合わせ"
   ]
  },
  {
   "cell_type": "code",
   "execution_count": null,
   "metadata": {},
   "outputs": [],
   "source": [
    "from langchain_community.chat_models.oci_generative_ai import ChatOCIGenAI\n",
    "\n",
    "chat = ChatOCIGenAI(\n",
    "    auth_type=\"INSTANCE_PRINCIPAL\",\n",
    "    service_endpoint=service_endpoint,\n",
    "    compartment_id=compartment_id,\n",
    "    model_id=\"cohere.command-r-plus\",\n",
    "    is_stream=True,\n",
    "    model_kwargs={\n",
    "        \"temperature\": 0,\n",
    "        \"max_tokens\": 2500,\n",
    "        \"top_p\": 0.75,\n",
    "        \"top_k\": 0,\n",
    "        \"frequency_penalty\": 0,\n",
    "        \"presence_penalty\": 0\n",
    "    }\n",
    ")"
   ]
  },
  {
   "cell_type": "code",
   "execution_count": null,
   "metadata": {},
   "outputs": [],
   "source": [
    "from langchain_core.runnables import RunnablePassthrough\n",
    "from langchain_core.prompts import PromptTemplate\n",
    "from langchain_core.output_parsers import StrOutputParser\n",
    "\n",
    "template = \"\"\"\n",
    "可能な限り、得られたコンテキストに基づいて以下の質問に対する回答を作成してください。\n",
    "\n",
    "## コンテキスト\n",
    "{context}\n",
    "\n",
    "## 質問\n",
    "{question}\n",
    "\"\"\"\n",
    "\n",
    "prompt_template = PromptTemplate.from_template(\n",
    "    template=template,\n",
    ")\n",
    "\n",
    "chain = (\n",
    "    {\"context\": oracle_vs.as_retriever(), \"question\": RunnablePassthrough()}\n",
    "    | prompt_template\n",
    "    | chat\n",
    "    | StrOutputParser()\n",
    ")"
   ]
  },
  {
   "cell_type": "code",
   "execution_count": null,
   "metadata": {},
   "outputs": [],
   "source": [
    "query = \"日本オラクルの有価証券報告書を読むのが大変なので簡潔にまとめてください。\"\n",
    "\n",
    "res = chain.stream(query)\n",
    "\n",
    "for chunk in res:\n",
    "    print(chunk, end=\"\")"
   ]
  }
 ],
 "metadata": {
  "kernelspec": {
   "display_name": ".venv",
   "language": "python",
   "name": "python3"
  },
  "language_info": {
   "codemirror_mode": {
    "name": "ipython",
    "version": 3
   },
   "file_extension": ".py",
   "mimetype": "text/x-python",
   "name": "python",
   "nbconvert_exporter": "python",
   "pygments_lexer": "ipython3",
   "version": "3.11.7"
  }
 },
 "nbformat": 4,
 "nbformat_minor": 2
}

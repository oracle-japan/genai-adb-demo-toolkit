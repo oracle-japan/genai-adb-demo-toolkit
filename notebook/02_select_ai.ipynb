{
 "cells": [
  {
   "cell_type": "markdown",
   "metadata": {},
   "source": [
    "# SELECT AI\n",
    "\n",
    "このノートブックでは、Autonomous Database で使用可能な [SELECT AI](https://docs.oracle.com/en/cloud/paas/autonomous-database/serverless/adbsb/sql-generation-ai-autonomous.html#GUID-9CE75F94-7455-4C09-A3F3-118C08E82B7E) を体験します。"
   ]
  },
  {
   "cell_type": "code",
   "execution_count": 1,
   "metadata": {},
   "outputs": [],
   "source": [
    "import os\n",
    "from dotenv import load_dotenv, find_dotenv\n",
    "\n",
    "_ = load_dotenv(find_dotenv())\n",
    "\n",
    "# OCI\n",
    "user_ocid = os.getenv(\"USER_OCID\")\n",
    "tenancy_ocid = os.getenv(\"TENANCY_OCID\")\n",
    "private_key_content = os.getenv(\"PRIVATE_KEY_CONTENT\")\n",
    "fingerprint = os.getenv(\"FINGERPRINT\")\n",
    "compartment_id = os.getenv(\"COMPARTMENT_ID\")\n",
    "\n",
    "# Oracle Database\n",
    "username = os.getenv(\"USERNAME\")\n",
    "password = os.getenv(\"PASSWORD\")\n",
    "dsn = os.getenv(\"DSN\")\n",
    "config_dir = os.getenv(\"CONFIG_DIR\")\n",
    "wallet_dir = os.getenv(\"WALLET_DIR\")\n",
    "wallet_password = os.getenv(\"WALLET_PASSWORD\")\n",
    "table_name = os.getenv(\"TABLE_NAME\")"
   ]
  },
  {
   "cell_type": "markdown",
   "metadata": {},
   "source": [
    "Oracle Database とのコネクションを作成します。  \n",
    "Jupyter Notebook のため、`with` 句は利用していませんが、アプリケーションに組み込む際は、コネクションが確実にクローズされることを保証するために、`with` 句を用いてコネクションを作成ください。\n",
    "\n",
    "参考: [https://python-oracledb.readthedocs.io/en/latest/user_guide/connection_handling.html#closing-connections](https://python-oracledb.readthedocs.io/en/latest/user_guide/connection_handling.html#closing-connections)"
   ]
  },
  {
   "cell_type": "code",
   "execution_count": 2,
   "metadata": {},
   "outputs": [],
   "source": [
    "import oracledb\n",
    "\n",
    "connection = oracledb.connect(\n",
    "    dsn=dsn,\n",
    "    user=username,\n",
    "    password=password,\n",
    "    config_dir=config_dir,\n",
    "    wallet_location=wallet_dir,\n",
    "    wallet_password=wallet_password\n",
    ")"
   ]
  },
  {
   "cell_type": "markdown",
   "metadata": {},
   "source": [
    "SELECT AI の対象となるサンプルテーブルとデータを作成します。"
   ]
  },
  {
   "cell_type": "code",
   "execution_count": 3,
   "metadata": {},
   "outputs": [],
   "source": [
    "cursor = connection.cursor()\n",
    "\n",
    "sample_data = [\n",
    "    (1, \"佐藤 太郎\", \"男性\", \"営業\", \"マネージャー\", \"経験豊富な営業マネージャー\"),\n",
    "    (2, \"鈴木 次郎\", \"男性\", \"開発\", \"エンジニア\", \"AI開発に従事\"),\n",
    "    (3, \"田中 花子\", \"女性\", \"人事\", \"リーダー\", \"採用業務を担当\"),\n",
    "    (4, \"山田 太一\", \"男性\", \"マーケティング\", \"スペシャリスト\", \"デジタルマーケティング担当\"),\n",
    "    (5, \"高橋 美咲\", \"女性\", \"開発\", \"エンジニア\", \"クラウドインフラのスペシャリスト\"),\n",
    "    (6, \"井上 一郎\", \"男性\", \"営業\", \"チームリーダー\", \"営業部のチームリーダーで、大手企業向けの営業を担当\"),\n",
    "    (7, \"小林 明美\", \"女性\", \"開発\", \"シニアエンジニア\", \"ソフトウェアアーキテクチャ設計の経験豊富\"),\n",
    "    (8, \"森田 健太\", \"男性\", \"サポート\", \"カスタマーサポート\", \"製品サポートの専門家\"),\n",
    "    (9, \"中村 優子\", \"女性\", \"経理\", \"経理担当\", \"会社全体の経理業務を担当\"),\n",
    "    (10, \"藤田 一華\", \"女性\", \"営業\", \"アシスタント\", \"営業部のサポート業務を担当\"),\n",
    "    (11, \"山本 翔太\", \"男性\", \"開発\", \"ジュニアエンジニア\", \"新卒エンジニアで、AIプロジェクトに参画中\"),\n",
    "    (12, \"加藤 美和\", \"女性\", \"人事\", \"人事アシスタント\", \"人事データの管理や、採用サポートを担当\"),\n",
    "    (13, \"佐々木 健\", \"男性\", \"マーケティング\", \"マーケティングアナリスト\", \"市場調査とデータ分析を担当\"),\n",
    "    (14, \"斎藤 美紀\", \"女性\", \"営業\", \"フィールドセールス\", \"顧客訪問やプレゼンテーションを担当\"),\n",
    "    (15, \"大野 智\", \"男性\", \"開発\", \"データサイエンティスト\", \"ビッグデータ分析と機械学習モデルの構築を担当\"),\n",
    "]\n",
    "\n",
    "create_table_statement = \"\"\"\n",
    "CREATE TABLE IF NOT EXISTS EMPLOYEE (\n",
    "    EMPLOYEE_ID    NUMBER PRIMARY KEY,       -- 社員番号\n",
    "    NAME           VARCHAR2(100),            -- 従業員名\n",
    "    GENDER         VARCHAR2(10),             -- 性別\n",
    "    DEPARTMENT     VARCHAR2(50),             -- 部署\n",
    "    POSITION       VARCHAR2(50),             -- 役職\n",
    "    DETAILS        VARCHAR2(255)             -- 詳細情報\n",
    ")\n",
    "\"\"\"\n",
    "\n",
    "insert_sample_data_statement = \"\"\"\n",
    "INSERT INTO EMPLOYEE (EMPLOYEE_ID, NAME, GENDER, DEPARTMENT, POSITION, DETAILS)\n",
    "VALUES (:1, :2, :3, :4, :5, :6)\n",
    "\"\"\"\n",
    "\n",
    "# テーブル作成\n",
    "cursor.execute(\n",
    "    statement=create_table_statement\n",
    ")\n",
    "\n",
    "# データ初期化\n",
    "cursor.execute(\n",
    "    statement=\"\"\"\n",
    "    DELETE FROM EMPLOYEE\n",
    "    \"\"\"\n",
    ")\n",
    "\n",
    "# データ挿入\n",
    "cursor.executemany(\n",
    "    statement=insert_sample_data_statement,\n",
    "    parameters=sample_data\n",
    ")\n",
    "\n",
    "cursor.close()\n",
    "connection.commit()"
   ]
  },
  {
   "cell_type": "markdown",
   "metadata": {},
   "source": [
    "（オプション日本語によるコメントを付与し、SQLの変換精度を向上させます。"
   ]
  },
  {
   "cell_type": "code",
   "execution_count": 4,
   "metadata": {},
   "outputs": [],
   "source": [
    "cursor = connection.cursor()\n",
    "\n",
    "comment_statement_table = \"\"\"\n",
    "COMMENT ON TABLE EMPLOYEE IS '従業員情報を管理しているテーブルです。'\n",
    "\"\"\"\n",
    "cursor.execute(statement=comment_statement_table)\n",
    "\n",
    "comment_statement_employee_id = \"\"\"\n",
    "COMMENT ON COLUMN EMPLOYEE.EMPLOYEE_ID IS '従業員ID'\n",
    "\"\"\"\n",
    "cursor.execute(statement=comment_statement_employee_id)\n",
    "\n",
    "comment_statement_name = \"\"\"\n",
    "COMMENT ON COLUMN EMPLOYEE.NAME IS '名前'\n",
    "\"\"\"\n",
    "cursor.execute(statement=comment_statement_name)\n",
    "\n",
    "comment_statement_gender = \"\"\"\n",
    "COMMENT ON COLUMN EMPLOYEE.GENDER IS '性別'\n",
    "\"\"\"\n",
    "cursor.execute(statement=comment_statement_gender)\n",
    "\n",
    "comment_statement_department = \"\"\"\n",
    "COMMENT ON COLUMN EMPLOYEE.DEPARTMENT IS '部署（開発、人事、営業、マーケティング、サポート、経理が存在します）'\n",
    "\"\"\"\n",
    "cursor.execute(statement=comment_statement_department)\n",
    "\n",
    "comment_statement_position = \"\"\"\n",
    "COMMENT ON COLUMN EMPLOYEE.POSITION IS '役職'\n",
    "\"\"\"\n",
    "cursor.execute(statement=comment_statement_position)\n",
    "\n",
    "comment_statement_details = \"\"\"\n",
    "COMMENT ON COLUMN EMPLOYEE.DETAILS IS '従業員の詳細情報'\n",
    "\"\"\"\n",
    "cursor.execute(statement=comment_statement_details)"
   ]
  },
  {
   "cell_type": "markdown",
   "metadata": {},
   "source": [
    "SELECT AI で使用するための資格情報を作成します。"
   ]
  },
  {
   "cell_type": "code",
   "execution_count": 5,
   "metadata": {},
   "outputs": [],
   "source": [
    "cursor = connection.cursor()\n",
    "\n",
    "remove_credential_statement = \"\"\"\n",
    "BEGIN\n",
    "       DBMS_CLOUD.DROP_CREDENTIAL (\n",
    "              credential_name => :credential_name\n",
    "       );\n",
    "END;\n",
    "\"\"\"\n",
    "\n",
    "create_credential_statement = \"\"\"\n",
    "BEGIN\n",
    "       DBMS_CLOUD.CREATE_CREDENTIAL (\n",
    "              credential_name => :credential_name,\n",
    "              user_ocid       => :user_ocid,\n",
    "              tenancy_ocid    => :tenancy_ocid,\n",
    "              private_key     => :private_key_content,\n",
    "              fingerprint     => :fingerprint\n",
    "       );\n",
    "END;\n",
    "\"\"\"\n",
    "\n",
    "cursor.execute(\n",
    "       statement=remove_credential_statement,\n",
    "       credential_name=\"OCI_KEY_CRED\",\n",
    ")\n",
    "\n",
    "cursor.execute(\n",
    "       statement=create_credential_statement,\n",
    "       credential_name=\"OCI_KEY_CRED\",\n",
    "       user_ocid=user_ocid,\n",
    "       tenancy_ocid=tenancy_ocid,\n",
    "       private_key_content=private_key_content,\n",
    "       fingerprint=fingerprint\n",
    ")\n",
    "\n",
    "cursor.close()"
   ]
  },
  {
   "cell_type": "markdown",
   "metadata": {},
   "source": [
    "SELECT AI 用の AI Profile を作成します。"
   ]
  },
  {
   "cell_type": "code",
   "execution_count": 6,
   "metadata": {},
   "outputs": [],
   "source": [
    "import json\n",
    "\n",
    "cursor = connection.cursor()\n",
    "\n",
    "remove_ai_profile_statement = \"\"\"\n",
    "BEGIN\n",
    "    DBMS_CLOUD_AI.DROP_PROFILE(\n",
    "        profile_name => 'OCI_GENERATIVE_AI'\n",
    "    );\n",
    "END;\n",
    "\"\"\"\n",
    "cursor.execute(\n",
    "    statement=remove_ai_profile_statement\n",
    ")\n",
    "\n",
    "create_ai_profile_statement = \"\"\"\n",
    "BEGIN\n",
    "    DBMS_CLOUD_AI.CREATE_PROFILE(\n",
    "        profile_name => 'OCI_GENERATIVE_AI',\n",
    "        attributes   => :attributes\n",
    "    );\n",
    "END;\n",
    "\"\"\"\n",
    "attributes = {\n",
    "    \"provider\": \"oci\",\n",
    "    \"credential_name\": \"OCI_KEY_CRED\",\n",
    "    \"model\": \"cohere.command-r-plus\",\n",
    "    \"oci_apiformat\": \"COHERE\",\n",
    "    \"region\": \"us-chicago-1\",\n",
    "    \"oci_compartment_id\": compartment_id,\n",
    "    \"comments\": True,\n",
    "    \"object_list\": [\n",
    "        {\"owner\": \"SHUKAWAM\", \"name\": \"EMPLOYEE\"},\n",
    "    ]\n",
    "}\n",
    "cursor.execute(\n",
    "    statement=create_ai_profile_statement,\n",
    "    attributes=json.dumps(attributes)\n",
    ")\n",
    "\n",
    "set_ai_profile_statement = \"\"\"\n",
    "BEGIN\n",
    "    DBMS_CLOUD_AI.SET_PROFILE(\n",
    "        profile_name    => 'OCI_GENERATIVE_AI'\n",
    "    );\n",
    "END;\n",
    "\"\"\"\n",
    "cursor.execute(\n",
    "    statement=set_ai_profile_statement\n",
    ")\n",
    "\n",
    "cursor.close()"
   ]
  },
  {
   "cell_type": "markdown",
   "metadata": {},
   "source": [
    "SELECT AI 機能をいくつか試してみる"
   ]
  },
  {
   "cell_type": "code",
   "execution_count": null,
   "metadata": {},
   "outputs": [],
   "source": [
    "cursor = connection.cursor()\n",
    "\n",
    "select_ai_showsql = \"\"\"\n",
    "SELECT AI SHOWSQL 開発部の人は何人いますか？;\n",
    "\"\"\"\n",
    "\n",
    "cursor.execute(\n",
    "    statement=select_ai_showsql\n",
    ")\n",
    "\n",
    "result = cursor.fetchall()\n",
    "print(result)\n",
    "\n",
    "cursor.close()"
   ]
  },
  {
   "cell_type": "code",
   "execution_count": null,
   "metadata": {},
   "outputs": [],
   "source": [
    "cursor = connection.cursor()\n",
    "\n",
    "select_ai_sql_narrate = \"\"\"\n",
    "SELECT AI NARRATE 従業員は何人いますか？;\n",
    "\"\"\"\n",
    "\n",
    "cursor.execute(\n",
    "    statement=select_ai_sql_narrate\n",
    ")\n",
    "\n",
    "result = cursor.fetchall()\n",
    "print(result)\n",
    "\n",
    "cursor.close()"
   ]
  },
  {
   "cell_type": "code",
   "execution_count": null,
   "metadata": {},
   "outputs": [],
   "source": [
    "cursor = connection.cursor()\n",
    "\n",
    "select_ai_sql_chat = \"\"\"\n",
    "SELECT AI CHAT マネージャーの従業員は何人いますか？;\n",
    "\"\"\"\n",
    "\n",
    "cursor.execute(\n",
    "    statement=select_ai_sql_chat\n",
    ")\n",
    "\n",
    "result = cursor.fetchall()\n",
    "print(result)\n",
    "\n",
    "cursor.close()"
   ]
  },
  {
   "cell_type": "code",
   "execution_count": null,
   "metadata": {},
   "outputs": [],
   "source": [
    "cursor = connection.cursor()\n",
    "\n",
    "select_ai_sql_run = \"\"\"\n",
    "SELECT AI RUN 従業員は何人いますか？;\n",
    "\"\"\"\n",
    "\n",
    "cursor.execute(\n",
    "    statement=select_ai_sql_run\n",
    ")\n",
    "\n",
    "result = cursor.fetchall()\n",
    "print(result)\n",
    "\n",
    "cursor.close()"
   ]
  },
  {
   "cell_type": "markdown",
   "metadata": {},
   "source": [
    "## w/ LangChain"
   ]
  },
  {
   "cell_type": "markdown",
   "metadata": {},
   "source": [
    "LLMが使用するツールを定義します"
   ]
  },
  {
   "cell_type": "code",
   "execution_count": 26,
   "metadata": {},
   "outputs": [],
   "source": [
    "from langchain_core.tools import tool, Tool\n",
    "\n",
    "@tool\n",
    "def nl_to_sql(query: str) -> list:\n",
    "    \"\"\"自然言語をSQLに変換（SELECT AI使用）し、そのSQLを実行し結果を返します\"\"\"\n",
    "    with oracledb.connect(\n",
    "        dsn=dsn,\n",
    "        user=username,\n",
    "        password=password,\n",
    "        config_dir=config_dir,\n",
    "        wallet_location=wallet_dir,\n",
    "        wallet_password=wallet_password\n",
    "    ) as connection:\n",
    "        with connection.cursor() as cursor:\n",
    "            set_ai_profile_statement = \"\"\"\n",
    "                BEGIN\n",
    "                    DBMS_CLOUD_AI.SET_PROFILE(\n",
    "                        profile_name    => 'OCI_GENERATIVE_AI'\n",
    "                    );\n",
    "                END;\n",
    "            \"\"\"\n",
    "            cursor.execute(\n",
    "                statement=set_ai_profile_statement\n",
    "            )\n",
    "            run_statement = f\"select ai {query}\"\n",
    "            cursor.execute(statement=run_statement)\n",
    "            result = cursor.fetchall()\n",
    "            return result"
   ]
  },
  {
   "cell_type": "code",
   "execution_count": 27,
   "metadata": {},
   "outputs": [],
   "source": [
    "from langgraph.prebuilt import ToolNode\n",
    "\n",
    "tools = [\n",
    "    Tool(\n",
    "        name=\"nl_to_sql\",\n",
    "        func=nl_to_sql,\n",
    "        description=\"\"\"\n",
    "            従業員テーブルに対する自然言語の問い合わせをSQLに変換したのち、そのSQLの実行結果を返します。\n",
    "            特定の条件に当てはまる従業員を検索する際や、数の集計時に役にたつツールです。\n",
    "        \"\"\"\n",
    "    )\n",
    "]\n",
    "\n",
    "tool_node = ToolNode(\n",
    "    tools=tools,\n",
    "    name=\"demo-tools\",\n",
    "    tags=[\"text-to-sql\"]\n",
    ")"
   ]
  },
  {
   "cell_type": "markdown",
   "metadata": {},
   "source": [
    "LLMを定義します"
   ]
  },
  {
   "cell_type": "code",
   "execution_count": 28,
   "metadata": {},
   "outputs": [],
   "source": [
    "from langchain_community.chat_models.oci_generative_ai import ChatOCIGenAI\n",
    "\n",
    "compartment_id = os.getenv(\"COMPARTMENT_ID\")\n",
    "service_endpoint = os.getenv(\"SERVICE_ENDPOINT\")\n",
    "\n",
    "chat = ChatOCIGenAI(\n",
    "    auth_type=\"INSTANCE_PRINCIPAL\",\n",
    "    service_endpoint=service_endpoint,\n",
    "    compartment_id=compartment_id,\n",
    "    model_id=\"cohere.command-r-plus\",\n",
    "    is_stream=True,\n",
    "    model_kwargs={\n",
    "        \"temperature\": 0,\n",
    "        \"max_tokens\": 2500,\n",
    "        \"top_p\": 0.75,\n",
    "        \"top_k\": 0,\n",
    "        \"frequency_penalty\": 0,\n",
    "        \"presence_penalty\": 0\n",
    "    }\n",
    ").bind_tools(tools=tools)"
   ]
  },
  {
   "cell_type": "markdown",
   "metadata": {},
   "source": [
    "ちゃんと、該当のツールが使えていることを確認する"
   ]
  },
  {
   "cell_type": "code",
   "execution_count": null,
   "metadata": {},
   "outputs": [],
   "source": [
    "response = chat.invoke(\"従業員って何人いますか？\")\n",
    "\n",
    "print(response.content)"
   ]
  },
  {
   "cell_type": "markdown",
   "metadata": {},
   "source": [
    "Agentのノードを定義する"
   ]
  },
  {
   "cell_type": "code",
   "execution_count": 30,
   "metadata": {},
   "outputs": [],
   "source": [
    "from typing import Literal, List\n",
    "\n",
    "from langgraph.checkpoint.memory import MemorySaver\n",
    "from langgraph.graph import END, StateGraph, MessagesState\n",
    "\n",
    "def should_continue(state: MessagesState) -> Literal[\"tools\", END]:\n",
    "    messages = state[\"messages\"]\n",
    "    last_message = messages[-1]\n",
    "    if last_message.tool_calls:\n",
    "        return \"tools\"\n",
    "    return END\n",
    "\n",
    "def call_model(state: MessagesState):\n",
    "    messages = state[\"messages\"]\n",
    "    response = chat.invoke(messages)\n",
    "    return {\"messages\": [response]}"
   ]
  },
  {
   "cell_type": "code",
   "execution_count": 31,
   "metadata": {},
   "outputs": [],
   "source": [
    "workflow = StateGraph(MessagesState)\n",
    "\n",
    "workflow.add_node(\"agent\", call_model)\n",
    "workflow.add_node(\"tools\", tool_node)\n",
    "\n",
    "workflow.set_entry_point(\"agent\")"
   ]
  },
  {
   "cell_type": "code",
   "execution_count": 32,
   "metadata": {},
   "outputs": [],
   "source": [
    "workflow.add_conditional_edges(\"agent\", should_continue)\n",
    "\n",
    "workflow.add_edge(\"tools\", \"agent\")\n",
    "\n",
    "checkpointer = MemorySaver()"
   ]
  },
  {
   "cell_type": "code",
   "execution_count": null,
   "metadata": {},
   "outputs": [],
   "source": [
    "app = workflow.compile(checkpointer=checkpointer)\n",
    "\n",
    "app.get_graph().print_ascii()"
   ]
  },
  {
   "cell_type": "code",
   "execution_count": null,
   "metadata": {},
   "outputs": [],
   "source": [
    "import uuid\n",
    "from langchain_core.prompt_values import HumanMessage\n",
    "\n",
    "session_id = str(uuid.uuid4())\n",
    "\n",
    "result = app.invoke(\n",
    "    input={\n",
    "        \"messages\": [\n",
    "            HumanMessage(content=\"従業員は何人いますか？\")\n",
    "        ]\n",
    "    },\n",
    "    config={\n",
    "        \"configurable\": {\n",
    "            \"thread_id\": session_id\n",
    "        }\n",
    "    }\n",
    ")\n",
    "\n",
    "print(result[\"messages\"][-1].content)"
   ]
  },
  {
   "cell_type": "markdown",
   "metadata": {},
   "source": [
    "## w/ Langfuse"
   ]
  },
  {
   "cell_type": "code",
   "execution_count": 35,
   "metadata": {},
   "outputs": [],
   "source": [
    "from langfuse.callback import CallbackHandler\n",
    "\n",
    "# Langfuse\n",
    "secret_key = os.getenv(\"LANGFUSE_SECRET_KEY\")\n",
    "public_key = os.getenv(\"LANGFUSE_PUBLIC_KEY\")\n",
    "langfuse_host = os.getenv(\"LANGFUSE_HOST\")\n",
    "\n",
    "langfuse_handler = CallbackHandler(\n",
    "    secret_key=secret_key,\n",
    "    public_key=public_key,\n",
    "    host=langfuse_host,\n",
    "    sample_rate=1.0\n",
    ")"
   ]
  },
  {
   "cell_type": "code",
   "execution_count": null,
   "metadata": {},
   "outputs": [],
   "source": [
    "session_id = str(uuid.uuid4())\n",
    "\n",
    "result = app.invoke(\n",
    "    input={\n",
    "        \"messages\": [\n",
    "            HumanMessage(content=\"従業員は何人いますか？\")\n",
    "        ]\n",
    "    },\n",
    "    config={\n",
    "        \"configurable\": {\n",
    "            \"thread_id\": session_id\n",
    "        },\n",
    "        \"callbacks\": [langfuse_handler]\n",
    "    }\n",
    ")\n",
    "\n",
    "print(result[\"messages\"][-1].content)"
   ]
  },
  {
   "cell_type": "code",
   "execution_count": null,
   "metadata": {},
   "outputs": [],
   "source": [
    "session_id = str(uuid.uuid4())\n",
    "\n",
    "result = app.invoke(\n",
    "    input={\n",
    "        \"messages\": [\n",
    "            HumanMessage(content=\"開発部の人は何人いますか？\")\n",
    "        ]\n",
    "    },\n",
    "    config={\n",
    "        \"configurable\": {\n",
    "            \"thread_id\": session_id\n",
    "        },\n",
    "        \"callbacks\": [langfuse_handler]\n",
    "    }\n",
    ")\n",
    "\n",
    "print(result[\"messages\"][-1].content)"
   ]
  }
 ],
 "metadata": {
  "kernelspec": {
   "display_name": "Python 3",
   "language": "python",
   "name": "python3"
  },
  "language_info": {
   "codemirror_mode": {
    "name": "ipython",
    "version": 3
   },
   "file_extension": ".py",
   "mimetype": "text/x-python",
   "name": "python",
   "nbconvert_exporter": "python",
   "pygments_lexer": "ipython3",
   "version": "3.11.7"
  }
 },
 "nbformat": 4,
 "nbformat_minor": 2
}
